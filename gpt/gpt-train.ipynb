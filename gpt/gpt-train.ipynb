{
 "cells": [
  {
   "cell_type": "code",
   "execution_count": 1,
   "metadata": {},
   "outputs": [
    {
     "name": "stdout",
     "output_type": "stream",
     "text": [
      "cuda\n",
      "66\n",
      "tensor([40, 41, 42])\n",
      "abc\n"
     ]
    }
   ],
   "source": [
    "import torch\n",
    "import torch.nn as nn\n",
    "import torch.nn.functional as F\n",
    "import numpy as np\n",
    "\n",
    "device = torch.device('cuda' if torch.cuda.is_available() else 'cpu')\n",
    "#device = torch.device('cpu')\n",
    "print(device)\n",
    "\n",
    "with open('data/tinyshakespeare.txt', 'r', encoding='utf-8') as f:\n",
    "    text = f.read()\n",
    "\n",
    "chars = sorted(list(set(text)))\n",
    "\n",
    "d_input = len(chars) + 1 # let 0 be padding\n",
    "print(d_input)\n",
    "\n",
    "stoi = lambda c: chars.index(c) + 1\n",
    "itos = lambda n: \"\" if n == 0 else chars[n-1]\n",
    "encode = lambda s: torch.tensor([stoi(c) for c in s], dtype=torch.long)\n",
    "decode = lambda m: ''.join([itos(i) for i in m])\n",
    "\n",
    "code = encode('abc')\n",
    "print(code)\n",
    "print(decode(code))\n",
    "\n",
    "data = encode(text)\n",
    "n_split = int(0.9 * len(data))\n",
    "train_data = data[:n_split]\n",
    "test_data = data[n_split:]\n",
    "\n",
    "def get_batch(mode, seq_len, batch_size=1):\n",
    "    source = train_data if mode == 'train' else test_data\n",
    "    starts = torch.randint(len(source) - seq_len - 1, (batch_size, ))\n",
    "    x = torch.stack([source[s:s+seq_len] for s in starts])\n",
    "    y = torch.stack([source[s+1:s+1+seq_len] for s in starts])\n",
    "    x, y = x.to(device), y.to(device)\n",
    "    return x, y\n",
    "\n",
    "eval_iters = 50 #200\n",
    "@torch.no_grad()\n",
    "def estimate_loss():\n",
    "    out = {}\n",
    "    model.eval()\n",
    "    for mode in ['train', 'eval']:\n",
    "        losses = torch.zeros(eval_iters)\n",
    "        for k in range(eval_iters):\n",
    "            X, Y = get_batch(mode, max_seq_len)\n",
    "            _, loss = model(X, Y)\n",
    "            losses[k] = loss.item()\n",
    "        out[mode] = losses.mean()\n",
    "    model.train()\n",
    "    return out"
   ]
  },
  {
   "cell_type": "code",
   "execution_count": 10,
   "metadata": {},
   "outputs": [
    {
     "name": "stdout",
     "output_type": "stream",
     "text": [
      "new model\n"
     ]
    }
   ],
   "source": [
    "import gpt\n",
    "\n",
    "max_seq_len = 200\n",
    "\n",
    "model = gpt.GPT(d_model=32, d_input=d_input, max_seq_len=max_seq_len, N=12)\n",
    "try:\n",
    "    PATH = \"models/gptv2.pth\"\n",
    "    model.load_state_dict(torch.load(PATH))\n",
    "    print(\"loaded model\")\n",
    "except:\n",
    "    print(\"new model\")\n",
    "\n",
    "torch.cuda.empty_cache()\n",
    "model.to(device)\n",
    "\n",
    "optimizer = torch.optim.AdamW(model.parameters(), lr=1e-2)"
   ]
  },
  {
   "cell_type": "code",
   "execution_count": 12,
   "metadata": {},
   "outputs": [],
   "source": [
    "from torch.utils.tensorboard import SummaryWriter\n",
    "writer = SummaryWriter(\"runs/tinygpt\")\n",
    "\n",
    "writer.add_graph(model, get_batch('train', max_seq_len, 1))\n",
    "writer.close()"
   ]
  },
  {
   "cell_type": "code",
   "execution_count": 19,
   "metadata": {},
   "outputs": [
    {
     "ename": "OutOfMemoryError",
     "evalue": "CUDA out of memory. Tried to allocate 62.00 MiB (GPU 0; 6.00 GiB total capacity; 5.25 GiB already allocated; 0 bytes free; 5.26 GiB reserved in total by PyTorch) If reserved memory is >> allocated memory try setting max_split_size_mb to avoid fragmentation.  See documentation for Memory Management and PYTORCH_CUDA_ALLOC_CONF",
     "output_type": "error",
     "traceback": [
      "\u001b[1;31m---------------------------------------------------------------------------\u001b[0m",
      "\u001b[1;31mOutOfMemoryError\u001b[0m                          Traceback (most recent call last)",
      "Cell \u001b[1;32mIn[19], line 7\u001b[0m\n\u001b[0;32m      3\u001b[0m \u001b[39mfor\u001b[39;00m step \u001b[39min\u001b[39;00m \u001b[39mrange\u001b[39m(\u001b[39m0\u001b[39m, max_iters):\n\u001b[0;32m      5\u001b[0m     x, y \u001b[39m=\u001b[39m get_batch(\u001b[39m'\u001b[39m\u001b[39mtrain\u001b[39m\u001b[39m'\u001b[39m, max_seq_len, \u001b[39m50\u001b[39m)\n\u001b[1;32m----> 7\u001b[0m     z, loss \u001b[39m=\u001b[39m model(x, y)\n\u001b[0;32m      9\u001b[0m     optimizer\u001b[39m.\u001b[39mzero_grad(set_to_none\u001b[39m=\u001b[39m\u001b[39mTrue\u001b[39;00m)\n\u001b[0;32m     10\u001b[0m     loss\u001b[39m.\u001b[39mbackward()\n",
      "File \u001b[1;32mc:\\Users\\bansh\\anaconda3\\envs\\pytorch\\lib\\site-packages\\torch\\nn\\modules\\module.py:1194\u001b[0m, in \u001b[0;36mModule._call_impl\u001b[1;34m(self, *input, **kwargs)\u001b[0m\n\u001b[0;32m   1190\u001b[0m \u001b[39m# If we don't have any hooks, we want to skip the rest of the logic in\u001b[39;00m\n\u001b[0;32m   1191\u001b[0m \u001b[39m# this function, and just call forward.\u001b[39;00m\n\u001b[0;32m   1192\u001b[0m \u001b[39mif\u001b[39;00m \u001b[39mnot\u001b[39;00m (\u001b[39mself\u001b[39m\u001b[39m.\u001b[39m_backward_hooks \u001b[39mor\u001b[39;00m \u001b[39mself\u001b[39m\u001b[39m.\u001b[39m_forward_hooks \u001b[39mor\u001b[39;00m \u001b[39mself\u001b[39m\u001b[39m.\u001b[39m_forward_pre_hooks \u001b[39mor\u001b[39;00m _global_backward_hooks\n\u001b[0;32m   1193\u001b[0m         \u001b[39mor\u001b[39;00m _global_forward_hooks \u001b[39mor\u001b[39;00m _global_forward_pre_hooks):\n\u001b[1;32m-> 1194\u001b[0m     \u001b[39mreturn\u001b[39;00m forward_call(\u001b[39m*\u001b[39;49m\u001b[39minput\u001b[39;49m, \u001b[39m*\u001b[39;49m\u001b[39m*\u001b[39;49mkwargs)\n\u001b[0;32m   1195\u001b[0m \u001b[39m# Do not call functions when jit is used\u001b[39;00m\n\u001b[0;32m   1196\u001b[0m full_backward_hooks, non_full_backward_hooks \u001b[39m=\u001b[39m [], []\n",
      "File \u001b[1;32mc:\\Users\\bansh\\Sites\\Active_Project\\practice-pytorch\\gpt\\gpt.py:220\u001b[0m, in \u001b[0;36mGPT.forward\u001b[1;34m(self, x, y)\u001b[0m\n\u001b[0;32m    218\u001b[0m x \u001b[39m=\u001b[39m \u001b[39mself\u001b[39m\u001b[39m.\u001b[39mnorm(x)             \u001b[39m# 1x512x512\u001b[39;00m\n\u001b[0;32m    219\u001b[0m \u001b[39mfor\u001b[39;00m decoder \u001b[39min\u001b[39;00m \u001b[39mself\u001b[39m\u001b[39m.\u001b[39mdecoders:\n\u001b[1;32m--> 220\u001b[0m     x \u001b[39m=\u001b[39m decoder(x)           \u001b[39m# 1x512x512\u001b[39;00m\n\u001b[0;32m    222\u001b[0m x \u001b[39m=\u001b[39m \u001b[39mself\u001b[39m\u001b[39m.\u001b[39mlinear(x)           \u001b[39m# 1x512x1024\u001b[39;00m\n\u001b[0;32m    224\u001b[0m \u001b[39mif\u001b[39;00m y \u001b[39mis\u001b[39;00m \u001b[39mNone\u001b[39;00m:\n",
      "File \u001b[1;32mc:\\Users\\bansh\\anaconda3\\envs\\pytorch\\lib\\site-packages\\torch\\nn\\modules\\module.py:1194\u001b[0m, in \u001b[0;36mModule._call_impl\u001b[1;34m(self, *input, **kwargs)\u001b[0m\n\u001b[0;32m   1190\u001b[0m \u001b[39m# If we don't have any hooks, we want to skip the rest of the logic in\u001b[39;00m\n\u001b[0;32m   1191\u001b[0m \u001b[39m# this function, and just call forward.\u001b[39;00m\n\u001b[0;32m   1192\u001b[0m \u001b[39mif\u001b[39;00m \u001b[39mnot\u001b[39;00m (\u001b[39mself\u001b[39m\u001b[39m.\u001b[39m_backward_hooks \u001b[39mor\u001b[39;00m \u001b[39mself\u001b[39m\u001b[39m.\u001b[39m_forward_hooks \u001b[39mor\u001b[39;00m \u001b[39mself\u001b[39m\u001b[39m.\u001b[39m_forward_pre_hooks \u001b[39mor\u001b[39;00m _global_backward_hooks\n\u001b[0;32m   1193\u001b[0m         \u001b[39mor\u001b[39;00m _global_forward_hooks \u001b[39mor\u001b[39;00m _global_forward_pre_hooks):\n\u001b[1;32m-> 1194\u001b[0m     \u001b[39mreturn\u001b[39;00m forward_call(\u001b[39m*\u001b[39;49m\u001b[39minput\u001b[39;49m, \u001b[39m*\u001b[39;49m\u001b[39m*\u001b[39;49mkwargs)\n\u001b[0;32m   1195\u001b[0m \u001b[39m# Do not call functions when jit is used\u001b[39;00m\n\u001b[0;32m   1196\u001b[0m full_backward_hooks, non_full_backward_hooks \u001b[39m=\u001b[39m [], []\n",
      "File \u001b[1;32mc:\\Users\\bansh\\Sites\\Active_Project\\practice-pytorch\\gpt\\gpt.py:188\u001b[0m, in \u001b[0;36mGPTdecodeLayer.forward\u001b[1;34m(self, x)\u001b[0m\n\u001b[0;32m    186\u001b[0m \u001b[39mdef\u001b[39;00m \u001b[39mforward\u001b[39m(\u001b[39mself\u001b[39m, x):\n\u001b[0;32m    187\u001b[0m     \u001b[39m#                                                x: 1x512x512\u001b[39;00m\n\u001b[1;32m--> 188\u001b[0m     y \u001b[39m=\u001b[39m \u001b[39mself\u001b[39;49m\u001b[39m.\u001b[39;49mmultiHeadAttn(x, decoderMask\u001b[39m=\u001b[39;49m\u001b[39mTrue\u001b[39;49;00m)       \u001b[39m# 1x512x512\u001b[39;00m\n\u001b[0;32m    189\u001b[0m     y \u001b[39m=\u001b[39m x \u001b[39m+\u001b[39m y                                \u001b[39m# Residual 1x512x512\u001b[39;00m\n\u001b[0;32m    190\u001b[0m     y \u001b[39m=\u001b[39m \u001b[39mself\u001b[39m\u001b[39m.\u001b[39mnorm1(y)                                 \u001b[39m# 1x512x512\u001b[39;00m\n",
      "File \u001b[1;32mc:\\Users\\bansh\\anaconda3\\envs\\pytorch\\lib\\site-packages\\torch\\nn\\modules\\module.py:1194\u001b[0m, in \u001b[0;36mModule._call_impl\u001b[1;34m(self, *input, **kwargs)\u001b[0m\n\u001b[0;32m   1190\u001b[0m \u001b[39m# If we don't have any hooks, we want to skip the rest of the logic in\u001b[39;00m\n\u001b[0;32m   1191\u001b[0m \u001b[39m# this function, and just call forward.\u001b[39;00m\n\u001b[0;32m   1192\u001b[0m \u001b[39mif\u001b[39;00m \u001b[39mnot\u001b[39;00m (\u001b[39mself\u001b[39m\u001b[39m.\u001b[39m_backward_hooks \u001b[39mor\u001b[39;00m \u001b[39mself\u001b[39m\u001b[39m.\u001b[39m_forward_hooks \u001b[39mor\u001b[39;00m \u001b[39mself\u001b[39m\u001b[39m.\u001b[39m_forward_pre_hooks \u001b[39mor\u001b[39;00m _global_backward_hooks\n\u001b[0;32m   1193\u001b[0m         \u001b[39mor\u001b[39;00m _global_forward_hooks \u001b[39mor\u001b[39;00m _global_forward_pre_hooks):\n\u001b[1;32m-> 1194\u001b[0m     \u001b[39mreturn\u001b[39;00m forward_call(\u001b[39m*\u001b[39;49m\u001b[39minput\u001b[39;49m, \u001b[39m*\u001b[39;49m\u001b[39m*\u001b[39;49mkwargs)\n\u001b[0;32m   1195\u001b[0m \u001b[39m# Do not call functions when jit is used\u001b[39;00m\n\u001b[0;32m   1196\u001b[0m full_backward_hooks, non_full_backward_hooks \u001b[39m=\u001b[39m [], []\n",
      "File \u001b[1;32mc:\\Users\\bansh\\Sites\\Active_Project\\practice-pytorch\\gpt\\gpt.py:129\u001b[0m, in \u001b[0;36mMultiHeadAttention.forward\u001b[1;34m(self, x, m, decoderMask)\u001b[0m\n\u001b[0;32m    125\u001b[0m qkv \u001b[39m=\u001b[39m qkv\u001b[39m.\u001b[39mpermute(\u001b[39m0\u001b[39m, \u001b[39m2\u001b[39m, \u001b[39m1\u001b[39m, \u001b[39m3\u001b[39m)                                           \u001b[39m# 1x8x512x192 (d_batch, num_heads, seq_len, 3 x d_head)\u001b[39;00m\n\u001b[0;32m    127\u001b[0m q, k, v \u001b[39m=\u001b[39m qkv\u001b[39m.\u001b[39mchunk(\u001b[39m3\u001b[39m, dim\u001b[39m=\u001b[39m\u001b[39m-\u001b[39m\u001b[39m1\u001b[39m)                                       \u001b[39m# Q: 1x8x512x64 (d_batch, num_heads, seq_len, d_head)\u001b[39;00m\n\u001b[1;32m--> 129\u001b[0m next_v, _ \u001b[39m=\u001b[39m \u001b[39mself\u001b[39;49m\u001b[39m.\u001b[39;49mscaled_dot_product(q, k, v, decoderMask)               \u001b[39m# 1x8x512x64 (d_batch, num_heads, seq_len, d_head)\u001b[39;00m\n\u001b[0;32m    131\u001b[0m next_v \u001b[39m=\u001b[39m next_v\u001b[39m.\u001b[39mpermute(\u001b[39m0\u001b[39m, \u001b[39m2\u001b[39m, \u001b[39m1\u001b[39m, \u001b[39m3\u001b[39m)                                     \u001b[39m# 1x512x8x64 (d_batch, seq_len, num_heads, d_head)\u001b[39;00m\n\u001b[0;32m    132\u001b[0m next_v \u001b[39m=\u001b[39m next_v\u001b[39m.\u001b[39mreshape(B, \u001b[39mself\u001b[39m\u001b[39m.\u001b[39mmax_seq_len, \u001b[39mself\u001b[39m\u001b[39m.\u001b[39md_model)              \u001b[39m# 1x512x512 (d_batch, seq_len, d_model)\u001b[39;00m\n",
      "File \u001b[1;32mc:\\Users\\bansh\\Sites\\Active_Project\\practice-pytorch\\gpt\\gpt.py:139\u001b[0m, in \u001b[0;36mMultiHeadAttention.scaled_dot_product\u001b[1;34m(self, q, k, v, decoderMask)\u001b[0m\n\u001b[0;32m    137\u001b[0m \u001b[39mdef\u001b[39;00m \u001b[39mscaled_dot_product\u001b[39m(\u001b[39mself\u001b[39m, q, k, v, decoderMask\u001b[39m=\u001b[39m\u001b[39mFalse\u001b[39;00m):\n\u001b[0;32m    138\u001b[0m     d_q \u001b[39m=\u001b[39m q\u001b[39m.\u001b[39msize()[\u001b[39m-\u001b[39m\u001b[39m1\u001b[39m]                                             \u001b[39m# 64 (d_head)\u001b[39;00m\n\u001b[1;32m--> 139\u001b[0m     scaled \u001b[39m=\u001b[39m torch\u001b[39m.\u001b[39;49mmatmul(q, k\u001b[39m.\u001b[39;49mtranspose(\u001b[39m-\u001b[39;49m\u001b[39m1\u001b[39;49m, \u001b[39m-\u001b[39;49m\u001b[39m2\u001b[39;49m)) \u001b[39m/\u001b[39;49m math\u001b[39m.\u001b[39;49msqrt(d_q) \u001b[39m# 1x8x512x512 (d_batch, num_heads, seq_len, seq_len)\u001b[39;00m\n\u001b[0;32m    140\u001b[0m     \u001b[39m# 1x8x512x64 dot (1x8x512x64)^T = 1x8x512x64 dot 1x8x64x512 = 1x8x512x512\u001b[39;00m\n\u001b[0;32m    142\u001b[0m     \u001b[39mif\u001b[39;00m decoderMask:\n",
      "\u001b[1;31mOutOfMemoryError\u001b[0m: CUDA out of memory. Tried to allocate 62.00 MiB (GPU 0; 6.00 GiB total capacity; 5.25 GiB already allocated; 0 bytes free; 5.26 GiB reserved in total by PyTorch) If reserved memory is >> allocated memory try setting max_split_size_mb to avoid fragmentation.  See documentation for Memory Management and PYTORCH_CUDA_ALLOC_CONF"
     ]
    }
   ],
   "source": [
    "max_iters = 300\n",
    "for step in range(0, max_iters):\n",
    "    \n",
    "    x, y = get_batch('train', max_seq_len, 50)\n",
    "\n",
    "    z, loss = model(x, y)\n",
    "\n",
    "    optimizer.zero_grad(set_to_none=True)\n",
    "    loss.backward()\n",
    "    optimizer.step()\n",
    "\n",
    "    if step % (max_iters // 10) == 0 or step == max_iters-1:\n",
    "        losses = estimate_loss()\n",
    "        print(f\"step {step}: train loss {losses['train']:.4f}, val loss {losses['eval']:.4f}\")\n",
    "\n",
    "        writer.add_scalar('training loss', losses['train'] / 100, step)\n",
    "        writer.add_scalar('validation loss', losses['eval'] / 100, step)"
   ]
  },
  {
   "cell_type": "code",
   "execution_count": 22,
   "metadata": {},
   "outputs": [],
   "source": [
    "PATH = \"models/gptv1.pth\"\n",
    "torch.save(model.state_dict(), PATH)"
   ]
  },
  {
   "cell_type": "code",
   "execution_count": 21,
   "metadata": {},
   "outputs": [
    {
     "name": "stdout",
     "output_type": "stream",
     "text": [
      "ANTIGONUS:\n",
      "\n",
      "\n",
      "e\n",
      "u  :\n",
      "\n",
      "\n",
      " \n",
      "\n",
      ",\n",
      ",  \n",
      " \n",
      "\n",
      "\n",
      " \n",
      "   \n",
      " \n",
      "   :, l : \n",
      "\n",
      "      r were test Coaten:\n",
      "So, that's mother: you have more:\n",
      "And un it an by enemerbetaled's genlastrest.\n",
      "\n",
      "QUO:\n",
      "And that,sere sadder!\n",
      "\n",
      "DUCHESS IV:\n",
      "I so well at hiss part.\n",
      "Thou'd which this ground Lecondersain, willing.\n",
      "To he comeod again allis as thou grag\n"
     ]
    }
   ],
   "source": [
    "context = encode(\"ANTIGONUS:\").unsqueeze(0).to(device) # add batch to 1\n",
    "\n",
    "result = model.generate(context, new_seq_len=300)[0]\n",
    "print(decode(result))"
   ]
  },
  {
   "cell_type": "code",
   "execution_count": 6,
   "metadata": {},
   "outputs": [
    {
     "name": "stdout",
     "output_type": "stream",
     "text": [
      "torch.Size([2, 7])\n"
     ]
    }
   ],
   "source": [
    "x = torch.randn(2, 4)\n",
    "y = torch.zeros(1, 5)\n",
    "\n",
    "print(F.pad(input=x, pad=(0, 3, 0, 0), mode='constant', value=0).shape)"
   ]
  }
 ],
 "metadata": {
  "kernelspec": {
   "display_name": "pytorch",
   "language": "python",
   "name": "python3"
  },
  "language_info": {
   "codemirror_mode": {
    "name": "ipython",
    "version": 3
   },
   "file_extension": ".py",
   "mimetype": "text/x-python",
   "name": "python",
   "nbconvert_exporter": "python",
   "pygments_lexer": "ipython3",
   "version": "3.8.16"
  },
  "orig_nbformat": 4
 },
 "nbformat": 4,
 "nbformat_minor": 2
}
