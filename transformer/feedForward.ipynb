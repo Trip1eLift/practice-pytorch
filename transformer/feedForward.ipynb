{
 "cells": [
  {
   "cell_type": "code",
   "execution_count": null,
   "metadata": {},
   "outputs": [],
   "source": [
    "\"\"\"\n",
    "FeedForward\n",
    "sequence_length x d_model (4 x 512)\n",
    "\n",
    "1. Linear  -> sequence_length x d_hidden (4 x 1024)\n",
    "\n",
    "2. ReLU    -> sequence_length x d_hidden (4 x 1024)\n",
    "\n",
    "3. Dropout -> sequence_length x d_hidden (4 x 1024)\n",
    "\n",
    "4. Linear  -> sequence_length x d_hidden (4 x 512)\n",
    "\"\"\""
   ]
  },
  {
   "cell_type": "code",
   "execution_count": null,
   "metadata": {},
   "outputs": [],
   "source": [
    "import torch\n",
    "import torch.nn as nn\n",
    "import torch.nn.functional as F\n",
    "\n",
    "class FeedForward(nn.Module):\n",
    "    def __init__(self, d_model=512, d_hidden=1024, max_sequence_length=1024, dropout=0.1):\n",
    "        super(FeedForward, self).__init__()\n",
    "        self.d_model = d_model\n",
    "        self.d_hidden = d_hidden\n",
    "        self.max_sequence_length = max_sequence_length # This parameter is not used\n",
    "        self.linear1 = nn.Linear(d_model, d_hidden)\n",
    "        self.dropout = nn.Dropout(dropout)\n",
    "        self.linear2 = nn.Linear(d_hidden, d_model)\n",
    "\n",
    "    def forward(self, x):\n",
    "        x = self.linear1(x)\n",
    "        x = F.relu(x)\n",
    "        x = self.dropout(x)\n",
    "        x = self.linear2(x)\n",
    "        return x\n",
    "\n"
   ]
  }
 ],
 "metadata": {
  "language_info": {
   "name": "python"
  },
  "orig_nbformat": 4
 },
 "nbformat": 4,
 "nbformat_minor": 2
}
