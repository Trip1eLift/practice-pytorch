{
 "cells": [
  {
   "cell_type": "code",
   "execution_count": 1,
   "metadata": {},
   "outputs": [],
   "source": [
    "import numpy as np\n",
    "import math, copy\n",
    "import torch\n",
    "import torch.nn as nn\n",
    "import torch.nn.functional as F\n",
    "\n",
    "class EmbedEncode(nn.Module):\n",
    "    \"also multiply the weights by sqrt(d_model) after embedding according to the paper\"\n",
    "    def __init__(self, d_model=512, d_input=1024, max_seq_len=512):\n",
    "        super(EmbedEncode, self).__init__()\n",
    "        self.d_model = d_model\n",
    "        self.d_input = d_input\n",
    "        self.max_seq_len = max_seq_len\n",
    "        self.embedding = nn.Embedding(d_input, d_model)\n",
    "\n",
    "    def forward(self, x):\n",
    "        # x can be [batch, seq_len, d_input]\n",
    "        # e.g. \"say hello to world\" 1x4x1024\n",
    "\n",
    "        # 1. Add pads                    # 1x4x1024\n",
    "        x = self.add_pads(x)             # 1x512x1024\n",
    "\n",
    "        # 2. Embedding\n",
    "        x = self.embedding(x)            # 1x512x512\n",
    "        x = x * math.sqrt(self.d_model)  # 1x512x512\n",
    "\n",
    "        # 3. Position Encoding\n",
    "        x = self.pos_encoding(x)\n",
    "        return x\n",
    "\n",
    "    def add_pads(self, x):\n",
    "        # add pads to [B x max_seq_len x d_input]\n",
    "        if x.size()[1] < self.max_seq_len:\n",
    "            B, S, _ = x.size()\n",
    "            pads = torch.zeros([B, self.max_seq_len-S, self.d_input])\n",
    "            pads[:, :, -1] = 1\n",
    "            x = torch.cat([x, pads], -2)\n",
    "        return x\n",
    "    \n",
    "    def pos_encoding(self, x):\n",
    "        \"PE (pos, 2i)   = sin(pos / 10000^(2i/d_model))\" # position is word pos in sequence\n",
    "        \"PE (pos, 2i+1) = cos(pos / 10000^(2i/d_model))\" # i is index in d_model\n",
    "        B, _, _ = x.size() # 1x512x512\n",
    "        even_i = torch.arange(0, self.d_model, 2).float()                      # 256 (d_model / 2)\n",
    "        denominator = torch.pow(even_i, (even_i / self.d_model))               # 256 (d_model / 2)\n",
    "        position = torch.arange(self.max_seq_len).reshape(self.max_seq_len, 1) # 512x1 (seq_len x 1)\n",
    "\n",
    "        even_PE = torch.sin(position / denominator)                            # 512x256 (seq_len x (d_model/2))\n",
    "        odd_PE  = torch.cos(position / denominator)                            # 512x256 (seq_len x (d_model/2))\n",
    "\n",
    "        stacked = torch.stack([even_PE, odd_PE], dim=-1)                       # 512x256x2 (seq_len x (d_model/2) x 2)\n",
    "        pe = torch.flatten(stacked, start_dim=-2, end_dim=-1)                  # 512x512 (seq_len x d_model) [[even_0 odd_0 even_1 odd_1...]...]\n",
    "        batch_pe = pe.unsqueeze(0).repeat(B, 1, 1)                             # 1x512x512\n",
    "        x = x + batch_pe\n",
    "        return x\n",
    "\n",
    "\n"
   ]
  },
  {
   "cell_type": "code",
   "execution_count": 48,
   "metadata": {},
   "outputs": [
    {
     "data": {
      "text/plain": [
       "tensor([[[0, 0],\n",
       "         [1, 1],\n",
       "         [2, 2]],\n",
       "\n",
       "        [[0, 0],\n",
       "         [1, 1],\n",
       "         [2, 2]],\n",
       "\n",
       "        [[0, 0],\n",
       "         [1, 1],\n",
       "         [2, 2]],\n",
       "\n",
       "        [[0, 0],\n",
       "         [1, 1],\n",
       "         [2, 2]]])"
      ]
     },
     "execution_count": 48,
     "metadata": {},
     "output_type": "execute_result"
    }
   ],
   "source": [
    "a = torch.tensor([[0, 0], [1, 1], [2, 2]])\n",
    "a.unsqueeze(0).repeat(4, 1, 1)"
   ]
  }
 ],
 "metadata": {
  "kernelspec": {
   "display_name": "pytorch",
   "language": "python",
   "name": "python3"
  },
  "language_info": {
   "codemirror_mode": {
    "name": "ipython",
    "version": 3
   },
   "file_extension": ".py",
   "mimetype": "text/x-python",
   "name": "python",
   "nbconvert_exporter": "python",
   "pygments_lexer": "ipython3",
   "version": "3.8.16"
  },
  "orig_nbformat": 4
 },
 "nbformat": 4,
 "nbformat_minor": 2
}
