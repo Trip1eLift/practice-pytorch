{
 "cells": [
  {
   "cell_type": "code",
   "execution_count": 18,
   "metadata": {},
   "outputs": [
    {
     "name": "stdout",
     "output_type": "stream",
     "text": [
      "Mean: 0.20, Std: 0.10\n",
      "Mean: 0.23, Std: 0.23\n",
      "layer 0 norm: [-0. -1.  1.]\n"
     ]
    }
   ],
   "source": [
    "# Normalization stablize and speed up the trainning \n",
    "# such the gradient descent will be more consistent.\n",
    "\n",
    "import torch\n",
    "import torch.nn as nn\n",
    "import numpy as np\n",
    "\n",
    "layer = torch.tensor(\n",
    "[[0.2, 0.1, 0.3],\n",
    " [0.5, 0.1, 0.1]]\n",
    ")  # 2 words and 3 dim vec for each word\n",
    "\n",
    "mean11 = 1 / 3 * layer[0].sum()\n",
    "std11  = layer[0].std()\n",
    "print(f'Mean: {mean11.item():.2f}, Std: {std11.item():.2f}')\n",
    "# The std has to do with Bessel's correction, so it's not 0.8\n",
    "\n",
    "mean21 = layer[1].mean()\n",
    "std21  = layer[1].std()\n",
    "print(f'Mean: {mean21.item():.2f}, Std: {std21.item():.2f}')\n",
    "\n",
    "print(\"layer 0 norm:\", np.round(((layer[0] - mean11) / std11).numpy(), 2))"
   ]
  },
  {
   "cell_type": "code",
   "execution_count": 19,
   "metadata": {},
   "outputs": [
    {
     "data": {
      "text/plain": [
       "torch.Size([2, 1, 3])"
      ]
     },
     "execution_count": 19,
     "metadata": {},
     "output_type": "execute_result"
    }
   ],
   "source": [
    "inputs = torch.tensor([[[0.2, 0.1, 0.3], [0.5, 0.1, 0.1]]])\n",
    "B, S, E = inputs.size() # B is batch\n",
    "inputs = inputs.reshape(S, B, E)\n",
    "inputs.size() # layer normalization will be applied to a layer across batches"
   ]
  },
  {
   "cell_type": "code",
   "execution_count": 21,
   "metadata": {},
   "outputs": [
    {
     "name": "stdout",
     "output_type": "stream",
     "text": [
      "torch.Size([1, 3]) torch.Size([1, 3])\n",
      "[-1, -2]\n"
     ]
    }
   ],
   "source": [
    "parameter_shape = inputs.size()[-2:]\n",
    "gamma = nn.Parameter(torch.ones(parameter_shape)) # parameters will change during training\n",
    "beta  = nn.Parameter(torch.zeros(parameter_shape))\n",
    "print(gamma.size(), beta.size())\n",
    "\n",
    "dims = [-(i + 1) for i in range(len(parameter_shape))]\n",
    "print(dims)"
   ]
  },
  {
   "cell_type": "code",
   "execution_count": 23,
   "metadata": {},
   "outputs": [
    {
     "name": "stdout",
     "output_type": "stream",
     "text": [
      "torch.Size([2, 1, 1])\n",
      "tensor([[[0.2000]],\n",
      "\n",
      "        [[0.2333]]])\n"
     ]
    }
   ],
   "source": [
    "mean = inputs.mean(dim=dims, keepdim=True)\n",
    "print(mean.size())\n",
    "print(mean)"
   ]
  },
  {
   "cell_type": "code",
   "execution_count": 24,
   "metadata": {},
   "outputs": [
    {
     "name": "stdout",
     "output_type": "stream",
     "text": [
      "tensor([[[0.0817]],\n",
      "\n",
      "        [[0.1886]]])\n"
     ]
    }
   ],
   "source": [
    "var = ((inputs - mean) ** 2).mean(dim=dims, keepdim=True)\n",
    "epsilon = 1e-5\n",
    "std = (var + epsilon).sqrt()\n",
    "print(std)"
   ]
  },
  {
   "cell_type": "code",
   "execution_count": 25,
   "metadata": {},
   "outputs": [
    {
     "name": "stdout",
     "output_type": "stream",
     "text": [
      "tensor([[[ 0.0000, -1.2238,  1.2238]],\n",
      "\n",
      "        [[ 1.4140, -0.7070, -0.7070]]])\n"
     ]
    }
   ],
   "source": [
    "y = (inputs - mean) / std\n",
    "print(y)"
   ]
  },
  {
   "cell_type": "code",
   "execution_count": 31,
   "metadata": {},
   "outputs": [
    {
     "name": "stdout",
     "output_type": "stream",
     "text": [
      "tensor([[[ 0.0000, -1.2238,  1.2238]],\n",
      "\n",
      "        [[ 1.4140, -0.7070, -0.7070]]], grad_fn=<AddBackward0>)\n"
     ]
    }
   ],
   "source": [
    "out = gamma * y + beta\n",
    "print(out)"
   ]
  },
  {
   "cell_type": "code",
   "execution_count": 40,
   "metadata": {},
   "outputs": [
    {
     "name": "stdout",
     "output_type": "stream",
     "text": [
      "torch.Size([5, 3, 8])\n",
      "torch.Size([3, 8])\n",
      "mean torch.Size([5, 1, 1])\n",
      "tensor([[[-0.3462]],\n",
      "\n",
      "        [[-0.3627]],\n",
      "\n",
      "        [[ 0.0518]],\n",
      "\n",
      "        [[ 0.1670]],\n",
      "\n",
      "        [[-0.1598]]])\n",
      "std torch.Size([5, 1, 1])\n",
      "tensor([[[1.0113]],\n",
      "\n",
      "        [[0.9629]],\n",
      "\n",
      "        [[1.0710]],\n",
      "\n",
      "        [[0.9919]],\n",
      "\n",
      "        [[0.8889]]])\n",
      "y torch.Size([5, 3, 8])\n",
      "tensor([[[ 1.0614e+00, -4.7620e-01, -5.8960e-01, -7.0821e-01, -7.5087e-01,\n",
      "           5.6443e-01, -1.0498e+00, -1.0689e+00],\n",
      "         [-7.1629e-02, -4.3661e-01,  1.9082e+00,  3.9167e-01, -9.1295e-01,\n",
      "           1.3029e+00, -1.2868e+00, -5.3802e-01],\n",
      "         [-9.0042e-02,  1.4245e+00, -3.6603e-01, -1.6860e-03, -1.1025e+00,\n",
      "          -5.4567e-01,  9.8800e-01,  2.3543e+00]],\n",
      "\n",
      "        [[ 8.3086e-01,  1.1783e+00,  1.2845e-01,  1.8076e-01, -2.1545e+00,\n",
      "          -6.3254e-01,  8.3142e-01, -7.3211e-01],\n",
      "         [ 2.3212e-02, -5.9913e-01, -8.7102e-01,  3.7432e-01, -8.7464e-01,\n",
      "          -5.0119e-01,  4.4294e-01, -2.3912e+00],\n",
      "         [-1.7329e-01,  7.5511e-01, -1.0109e-01,  1.6286e+00,  1.8908e+00,\n",
      "           2.6738e-01,  6.8532e-01, -1.8679e-01]],\n",
      "\n",
      "        [[-1.1876e+00, -2.1367e-01,  2.3990e-01, -3.7206e-01,  7.7441e-01,\n",
      "           4.5743e-01,  4.9742e-02, -1.3820e+00],\n",
      "         [ 1.4481e+00, -9.5673e-01, -1.0380e+00,  6.6340e-01,  2.8065e-01,\n",
      "           1.2581e-01, -3.9953e-02, -1.3720e+00],\n",
      "         [ 3.8994e-01,  2.4661e+00, -1.8034e+00,  1.3922e+00,  3.6741e-01,\n",
      "           4.1389e-01,  4.0308e-01, -1.1068e+00]],\n",
      "\n",
      "        [[ 7.0378e-01,  6.5181e-01,  5.7766e-01, -1.6292e+00,  1.3181e+00,\n",
      "           1.1853e-01,  4.8104e-01,  7.1075e-01],\n",
      "         [-4.1940e-01,  5.8336e-02, -7.7913e-01, -1.3328e-01, -5.3902e-01,\n",
      "           1.2626e+00,  1.7370e-02, -1.1206e+00],\n",
      "         [-1.7672e+00,  6.7321e-01,  8.6257e-01,  5.8189e-01,  2.0535e+00,\n",
      "          -1.6224e+00, -1.1467e+00, -9.1417e-01]],\n",
      "\n",
      "        [[-4.8233e-01, -1.6862e+00, -2.5039e-02,  8.6552e-01, -5.2377e-01,\n",
      "           1.4553e+00, -8.8002e-02,  2.4115e+00],\n",
      "         [ 1.0038e+00,  6.2889e-01, -8.1802e-01, -7.7138e-01, -8.0729e-01,\n",
      "           1.6536e+00,  1.4278e-01,  2.2287e-01],\n",
      "         [-1.2536e+00, -3.6082e-02, -1.8743e+00,  3.3078e-01, -3.4035e-01,\n",
      "           5.3701e-01, -6.4052e-02, -4.8155e-01]]])\n",
      "out torch.Size([5, 3, 8])\n",
      "tensor([[[ 1.0614e+00, -4.7620e-01, -5.8960e-01, -7.0821e-01, -7.5087e-01,\n",
      "           5.6443e-01, -1.0498e+00, -1.0689e+00],\n",
      "         [-7.1629e-02, -4.3661e-01,  1.9082e+00,  3.9167e-01, -9.1295e-01,\n",
      "           1.3029e+00, -1.2868e+00, -5.3802e-01],\n",
      "         [-9.0042e-02,  1.4245e+00, -3.6603e-01, -1.6860e-03, -1.1025e+00,\n",
      "          -5.4567e-01,  9.8800e-01,  2.3543e+00]],\n",
      "\n",
      "        [[ 8.3086e-01,  1.1783e+00,  1.2845e-01,  1.8076e-01, -2.1545e+00,\n",
      "          -6.3254e-01,  8.3142e-01, -7.3211e-01],\n",
      "         [ 2.3212e-02, -5.9913e-01, -8.7102e-01,  3.7432e-01, -8.7464e-01,\n",
      "          -5.0119e-01,  4.4294e-01, -2.3912e+00],\n",
      "         [-1.7329e-01,  7.5511e-01, -1.0109e-01,  1.6286e+00,  1.8908e+00,\n",
      "           2.6738e-01,  6.8532e-01, -1.8679e-01]],\n",
      "\n",
      "        [[-1.1876e+00, -2.1367e-01,  2.3990e-01, -3.7206e-01,  7.7441e-01,\n",
      "           4.5743e-01,  4.9742e-02, -1.3820e+00],\n",
      "         [ 1.4481e+00, -9.5673e-01, -1.0380e+00,  6.6340e-01,  2.8065e-01,\n",
      "           1.2581e-01, -3.9953e-02, -1.3720e+00],\n",
      "         [ 3.8994e-01,  2.4661e+00, -1.8034e+00,  1.3922e+00,  3.6741e-01,\n",
      "           4.1389e-01,  4.0308e-01, -1.1068e+00]],\n",
      "\n",
      "        [[ 7.0378e-01,  6.5181e-01,  5.7766e-01, -1.6292e+00,  1.3181e+00,\n",
      "           1.1853e-01,  4.8104e-01,  7.1075e-01],\n",
      "         [-4.1940e-01,  5.8336e-02, -7.7913e-01, -1.3328e-01, -5.3902e-01,\n",
      "           1.2626e+00,  1.7370e-02, -1.1206e+00],\n",
      "         [-1.7672e+00,  6.7321e-01,  8.6257e-01,  5.8189e-01,  2.0535e+00,\n",
      "          -1.6224e+00, -1.1467e+00, -9.1417e-01]],\n",
      "\n",
      "        [[-4.8233e-01, -1.6862e+00, -2.5039e-02,  8.6552e-01, -5.2377e-01,\n",
      "           1.4553e+00, -8.8002e-02,  2.4115e+00],\n",
      "         [ 1.0038e+00,  6.2889e-01, -8.1802e-01, -7.7138e-01, -8.0729e-01,\n",
      "           1.6536e+00,  1.4278e-01,  2.2287e-01],\n",
      "         [-1.2536e+00, -3.6082e-02, -1.8743e+00,  3.3078e-01, -3.4035e-01,\n",
      "           5.3701e-01, -6.4052e-02, -4.8155e-01]]], grad_fn=<AddBackward0>)\n"
     ]
    }
   ],
   "source": [
    "import torch\n",
    "from torch import nn\n",
    "\n",
    "class LayerNormalization():\n",
    "    def __init__(self, parameters_shape, eps=1e-5):\n",
    "        self.parameters_shape=parameters_shape\n",
    "        self.eps=eps\n",
    "        self.gamma = nn.Parameter(torch.ones(parameters_shape))\n",
    "        self.beta =  nn.Parameter(torch.zeros(parameters_shape))\n",
    "\n",
    "    def forward(self, input):\n",
    "        dims = [-(i + 1) for i in range(len(self.parameters_shape))]\n",
    "        mean = inputs.mean(dim=dims, keepdim=True)\n",
    "        print(f\"mean {mean.size()}\\n{mean}\")\n",
    "        var = ((inputs - mean) ** 2).mean(dim=dims, keepdim=True)\n",
    "        std = (var + self.eps).sqrt()\n",
    "        print(f\"std {std.size()}\\n{std}\")\n",
    "        y = (inputs - mean) / std\n",
    "        print(f\"y {y.size()}\\n{y}\")\n",
    "        out = self.gamma * y  + self.beta\n",
    "        print(f\"out {out.size()}\\n{out}\")\n",
    "        return out\n",
    "    \n",
    "batch_size = 3\n",
    "sentence_length = 5\n",
    "embedding_dim = 8 \n",
    "inputs = torch.randn(sentence_length, batch_size, embedding_dim)\n",
    "\n",
    "print(inputs.size())\n",
    "print(inputs.size()[-2:]) # perform norm to last two dimensions (batch, embeddings)\n",
    "\n",
    "layer_norm = LayerNormalization(inputs.size()[-2:])\n",
    "out = layer_norm.forward(inputs)"
   ]
  }
 ],
 "metadata": {
  "kernelspec": {
   "display_name": "pytorch",
   "language": "python",
   "name": "python3"
  },
  "language_info": {
   "codemirror_mode": {
    "name": "ipython",
    "version": 3
   },
   "file_extension": ".py",
   "mimetype": "text/x-python",
   "name": "python",
   "nbconvert_exporter": "python",
   "pygments_lexer": "ipython3",
   "version": "3.8.16"
  },
  "orig_nbformat": 4
 },
 "nbformat": 4,
 "nbformat_minor": 2
}
