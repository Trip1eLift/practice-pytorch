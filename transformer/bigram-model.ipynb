{
 "cells": [
  {
   "cell_type": "code",
   "execution_count": 51,
   "metadata": {},
   "outputs": [],
   "source": [
    "import torch\n",
    "import torch.nn as nn\n",
    "import torch.nn.functional as F\n",
    "import numpy as np\n",
    "\n",
    "batch_size = 1\n",
    "seq_len = 8\n",
    "eval_iters = 200\n",
    "learning_rate = 1e-2\n",
    "device = torch.device('cuda' if torch.cuda.is_available() else 'cpu')\n",
    "#device = torch.device('cpu')"
   ]
  },
  {
   "cell_type": "code",
   "execution_count": 52,
   "metadata": {},
   "outputs": [
    {
     "name": "stdout",
     "output_type": "stream",
     "text": [
      "['\\n', ' ', '!', '$', '&', \"'\", ',', '-', '.', '3', ':', ';', '?', 'A', 'B', 'C', 'D', 'E', 'F', 'G', 'H', 'I', 'J', 'K', 'L', 'M', 'N', 'O', 'P', 'Q', 'R', 'S', 'T', 'U', 'V', 'W', 'X', 'Y', 'Z', 'a', 'b', 'c', 'd', 'e', 'f', 'g', 'h', 'i', 'j', 'k', 'l', 'm', 'n', 'o', 'p', 'q', 'r', 's', 't', 'u', 'v', 'w', 'x', 'y', 'z']\n",
      "65\n",
      "tensor([39, 40, 41])\n",
      "abc\n"
     ]
    }
   ],
   "source": [
    "# wget https://raw.githubusercontent.com/karpathy/char-rnn/master/data/tinyshakespeare/input.txt\n",
    "with open('data/tinyshakespeare.txt', 'r', encoding='utf-8') as f:\n",
    "    text = f.read()\n",
    "\n",
    "chars = sorted(list(set(text)))\n",
    "print(chars)\n",
    "\n",
    "d_input = len(chars)\n",
    "print(d_input)\n",
    "\n",
    "def stoi1hot(c):\n",
    "    vec = np.zeros(d_input, dtype=np.int8)\n",
    "    vec[chars.index(c)] = 1\n",
    "    return vec\n",
    "\n",
    "def itos1hot(vec):\n",
    "    return chars[(vec == 1).nonzero(as_tuple=True)[0].item()]\n",
    "\n",
    "stoi = lambda c: chars.index(c)\n",
    "itos = lambda n: chars[n]\n",
    "encode = lambda s: torch.tensor([stoi(c) for c in s], dtype=torch.long)\n",
    "decode = lambda m: ''.join([itos(i) for i in m])\n",
    "\n",
    "code = encode('abc')\n",
    "print(code)\n",
    "print(decode(code))\n"
   ]
  },
  {
   "cell_type": "code",
   "execution_count": 53,
   "metadata": {},
   "outputs": [],
   "source": [
    "data = encode(text)\n",
    "n_split = int(0.9 * len(data))\n",
    "train_data = data[:n_split]\n",
    "test_data = data[n_split:]\n",
    "\n",
    "def get_batch(mode):\n",
    "    source = train_data if mode == 'train' else test_data\n",
    "    starts = torch.randint(len(source) - seq_len - 1, (batch_size, ))\n",
    "    x = torch.stack([source[s:s+seq_len] for s in starts])\n",
    "    y = torch.stack([source[s+1:s+1+seq_len] for s in starts])\n",
    "    x, y = x.to(device), y.to(device)\n",
    "    return x, y\n",
    "\n",
    "@torch.no_grad()\n",
    "def estimate_loss():\n",
    "    out = {}\n",
    "    model.eval()\n",
    "    for mode in ['train', 'eval']:\n",
    "        losses = torch.zeros(eval_iters)\n",
    "        for k in range(eval_iters):\n",
    "            X, Y = get_batch(mode)\n",
    "            pred, loss = model(X, Y)\n",
    "            losses[k] = loss.item()\n",
    "        out[mode] = losses.mean()\n",
    "    model.train()\n",
    "    return out"
   ]
  },
  {
   "cell_type": "code",
   "execution_count": 54,
   "metadata": {},
   "outputs": [],
   "source": [
    "class Bigram(nn.Module):\n",
    "    def __init__(self, d_model, seq_len, n_batch):\n",
    "        super(Bigram, self).__init__()\n",
    "        self.d_model = d_model\n",
    "        self.seq_len = seq_len\n",
    "        self.n_batch = n_batch\n",
    "        self.embedding = nn.Embedding(d_model, d_model) # 1-hot vector\n",
    "\n",
    "    def forward(self, x, y=None):\n",
    "        # x: batch_size x seq_len x char_vec (1 x 8 x 1)\n",
    "        # y: batch_size x seq_len x char_vec \n",
    "        \n",
    "        z = self.embedding(x) # 1 x 8 x 65\n",
    "\n",
    "        if y is None:\n",
    "            loss = None\n",
    "        else:\n",
    "            z = z.reshape(self.n_batch * self.seq_len, self.d_model)\n",
    "            y = y.reshape(self.n_batch * self.seq_len)\n",
    "            loss = F.cross_entropy(z, y)\n",
    "        \n",
    "        return z, loss\n",
    "    \n",
    "    def generate(self, x, new_seq_len):\n",
    "        # x: batch_size x seq_len x char_vec (1 x 8 x 1)\n",
    "        \n",
    "        \n",
    "        for i in range(new_seq_len):\n",
    "            z = x\n",
    "            if z.size()[-2] > self.seq_len:\n",
    "                z = z[:,-self.seq_len:,:]\n",
    "            z, loss = self(z) # 1x8x1\n",
    "            z = z[:, -1, :]   # 1x65    get the last char_vec in the sequence\n",
    "            probs = F.softmax(z, dim=-1) # 1x65\n",
    "            char_vecs = torch.multinomial(probs, num_samples=1) # 1x1 ?\n",
    "            x = torch.cat([x, char_vecs], dim=-1) # 1x9\n",
    "        return x"
   ]
  },
  {
   "cell_type": "code",
   "execution_count": 55,
   "metadata": {},
   "outputs": [
    {
     "name": "stdout",
     "output_type": "stream",
     "text": [
      "step 1: train loss 4.6347, val loss 4.6328\n",
      "step 3000: train loss 2.6008, val loss 2.5533\n",
      "step 6000: train loss 2.4793, val loss 2.5410\n",
      "step 9000: train loss 2.4745, val loss 2.4569\n",
      "step 12000: train loss 2.4725, val loss 2.5058\n",
      "step 15000: train loss 2.5049, val loss 2.4921\n",
      "step 18000: train loss 2.4347, val loss 2.5447\n",
      "step 21000: train loss 2.4932, val loss 2.4809\n",
      "step 24000: train loss 2.4957, val loss 2.5258\n",
      "step 27000: train loss 2.5243, val loss 2.5462\n",
      "step 30000: train loss 2.4750, val loss 2.5156\n"
     ]
    }
   ],
   "source": [
    "model = Bigram(d_model=d_input, seq_len=seq_len, n_batch=batch_size)\n",
    "model = model.to(device)\n",
    "\n",
    "optimizer = torch.optim.AdamW(model.parameters(), lr=learning_rate)\n",
    "\n",
    "max_iters = 30000\n",
    "for iter in range(1, max_iters+1):\n",
    "\n",
    "    x, y = get_batch('train')\n",
    "\n",
    "    z, loss = model(x, y)\n",
    "\n",
    "    optimizer.zero_grad(set_to_none=True)\n",
    "    loss.backward()\n",
    "    optimizer.step()\n",
    "\n",
    "    if iter % (max_iters // 10) == 0 or iter == 1:\n",
    "        losses = estimate_loss()\n",
    "        print(f\"step {iter}: train loss {losses['train']:.4f}, val loss {losses['eval']:.4f}\")"
   ]
  },
  {
   "cell_type": "code",
   "execution_count": 59,
   "metadata": {},
   "outputs": [
    {
     "name": "stdout",
     "output_type": "stream",
     "text": [
      "ABire,\n",
      "IARCloutand,\n",
      "Thed f tin\n",
      "NClan derrl ad cot tast omy gghe y\n",
      "\n",
      "Th d tol w yeaisue,\n",
      "OMI:\n",
      "Wher Ifrt pr cte ud:\n",
      "Clas:\n",
      "Anocer thet the t, foks; rgl:\n",
      "Goowe\n",
      "Thas ad, p s.\n",
      "\n",
      "Whathealou pe g panyoow:\n",
      "Thidotithit lot brun\n",
      "O:\n",
      "AREETowishoovagusein. LERI'stoours, s my ous theloscas n stonute lllo hanth f s m R\n"
     ]
    }
   ],
   "source": [
    "context = encode(\"AB\").unsqueeze(0).to(device) # add batch to 1\n",
    "result = model.generate(context, new_seq_len=300)[0]\n",
    "print(decode(result))"
   ]
  }
 ],
 "metadata": {
  "kernelspec": {
   "display_name": "pytorch",
   "language": "python",
   "name": "python3"
  },
  "language_info": {
   "codemirror_mode": {
    "name": "ipython",
    "version": 3
   },
   "file_extension": ".py",
   "mimetype": "text/x-python",
   "name": "python",
   "nbconvert_exporter": "python",
   "pygments_lexer": "ipython3",
   "version": "3.8.16"
  },
  "orig_nbformat": 4
 },
 "nbformat": 4,
 "nbformat_minor": 2
}
