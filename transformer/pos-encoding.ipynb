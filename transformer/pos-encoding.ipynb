{
 "cells": [
  {
   "attachments": {},
   "cell_type": "markdown",
   "metadata": {},
   "source": [
    "### Sequences\n",
    "\n",
    "In order to make sure the lenght of input matrix is always the same. We define d_input (dimension for a word) and seq_len (the length of the sequence). If the sentence is less than the sequence length, we simply pad zeros in it."
   ]
  },
  {
   "cell_type": "code",
   "execution_count": 10,
   "metadata": {},
   "outputs": [
    {
     "data": {
      "text/plain": [
       "\"\\n'say hello to world'\\n\\n-> One hot vectors:\\n  say                 hello               to                  world               empty...\\n[[0, 0, 1, 0 ... 0], [0, 1, 0, 0 ... 0], [0, 0, 0, 1 ... 0], [1, 0, 0, 0 ... 0], [0...0], ...]\\n\\n-> Embedding to seq_len x d_model\\n                1024    x 512\\n\\n-> Position encoding\\nPE (pos, 2i)   = sin(pos / 10000^(2i/d_model))\\nPE (pos, 2i+1) = cos(pos / 10000^(2i/d_model))\\nx = x + PE(x)\\n\\n-> Linear transform to make Q V K\\n512 > 3x512\\n\\n-> Multi Headed Attention\\n...\\n\""
      ]
     },
     "execution_count": 10,
     "metadata": {},
     "output_type": "execute_result"
    }
   ],
   "source": [
    "\"\"\"\n",
    "'say hello to world'\n",
    "\n",
    "-> One hot vectors:\n",
    "  say                 hello               to                  world               empty...\n",
    "[[0, 0, 1, 0 ... 0], [0, 1, 0, 0 ... 0], [0, 0, 0, 1 ... 0], [1, 0, 0, 0 ... 0], [0...0], ...]\n",
    "\n",
    "-> Embedding to seq_len x d_model\n",
    "                1024    x 512\n",
    "\n",
    "-> Position encoding\n",
    "PE (pos, 2i)   = sin(pos / 10000^(2i/d_model))\n",
    "PE (pos, 2i+1) = cos(pos / 10000^(2i/d_model))\n",
    "x = x + PE(x)\n",
    "\n",
    "-> Linear transform to make Q V K\n",
    "512 > 3x512\n",
    "\n",
    "-> Multi Headed Attention\n",
    "...\n",
    "\"\"\""
   ]
  },
  {
   "cell_type": "code",
   "execution_count": 11,
   "metadata": {},
   "outputs": [
    {
     "name": "stdout",
     "output_type": "stream",
     "text": [
      "tensor([0., 2., 4.])\n",
      "tensor([1., 3., 5.])\n"
     ]
    }
   ],
   "source": [
    "import torch\n",
    "import torch.nn as nn\n",
    "\n",
    "max_sequence_length = 10 # usually 1024\n",
    "d_model = 6              # usually 512\n",
    "\n",
    "even_i = torch.arange(0, d_model, 2).float()\n",
    "odd_i  = torch.arange(1, d_model, 2).float()\n",
    "print(even_i)\n",
    "print(odd_i)"
   ]
  },
  {
   "cell_type": "code",
   "execution_count": 12,
   "metadata": {},
   "outputs": [
    {
     "name": "stdout",
     "output_type": "stream",
     "text": [
      "tensor([  1.0000,  21.5443, 464.1590])\n",
      "tensor([  1.0000,  21.5443, 464.1590])\n"
     ]
    }
   ],
   "source": [
    "even_denominator = torch.pow(10000, even_i    / d_model)\n",
    "odd_denominator  = torch.pow(10000, (odd_i-1) / d_model)\n",
    "print(even_denominator)\n",
    "print(odd_denominator)\n",
    "# Evens and Odds are the same\n",
    "denominator = even_denominator"
   ]
  },
  {
   "cell_type": "code",
   "execution_count": 13,
   "metadata": {},
   "outputs": [
    {
     "data": {
      "text/plain": [
       "tensor([[0.],\n",
       "        [1.],\n",
       "        [2.],\n",
       "        [3.],\n",
       "        [4.],\n",
       "        [5.],\n",
       "        [6.],\n",
       "        [7.],\n",
       "        [8.],\n",
       "        [9.]])"
      ]
     },
     "execution_count": 13,
     "metadata": {},
     "output_type": "execute_result"
    }
   ],
   "source": [
    "position = torch.arange(max_sequence_length, dtype=torch.float).reshape(max_sequence_length, 1)\n",
    "position"
   ]
  },
  {
   "cell_type": "code",
   "execution_count": 17,
   "metadata": {},
   "outputs": [
    {
     "name": "stdout",
     "output_type": "stream",
     "text": [
      "torch.Size([10, 3]) \n",
      " tensor([[ 0.0000,  0.0000,  0.0000],\n",
      "        [ 0.8415,  0.0464,  0.0022],\n",
      "        [ 0.9093,  0.0927,  0.0043],\n",
      "        [ 0.1411,  0.1388,  0.0065],\n",
      "        [-0.7568,  0.1846,  0.0086],\n",
      "        [-0.9589,  0.2300,  0.0108],\n",
      "        [-0.2794,  0.2749,  0.0129],\n",
      "        [ 0.6570,  0.3192,  0.0151],\n",
      "        [ 0.9894,  0.3629,  0.0172],\n",
      "        [ 0.4121,  0.4057,  0.0194]]) \n",
      "\n",
      "torch.Size([10, 3]) \n",
      " tensor([[ 1.0000,  1.0000,  1.0000],\n",
      "        [ 0.5403,  0.9989,  1.0000],\n",
      "        [-0.4161,  0.9957,  1.0000],\n",
      "        [-0.9900,  0.9903,  1.0000],\n",
      "        [-0.6536,  0.9828,  1.0000],\n",
      "        [ 0.2837,  0.9732,  0.9999],\n",
      "        [ 0.9602,  0.9615,  0.9999],\n",
      "        [ 0.7539,  0.9477,  0.9999],\n",
      "        [-0.1455,  0.9318,  0.9999],\n",
      "        [-0.9111,  0.9140,  0.9998]])\n"
     ]
    }
   ],
   "source": [
    "even_PE = torch.sin(position / denominator)\n",
    "odd_PE  = torch.cos(position / denominator)\n",
    "print(even_PE.shape, \"\\n\", even_PE, \"\\n\")\n",
    "print(odd_PE.shape, \"\\n\", odd_PE)"
   ]
  },
  {
   "cell_type": "code",
   "execution_count": 24,
   "metadata": {},
   "outputs": [
    {
     "name": "stdout",
     "output_type": "stream",
     "text": [
      "torch.Size([10, 3, 2])\n",
      "tensor([[0., 1.],\n",
      "        [0., 1.],\n",
      "        [0., 1.]])\n",
      "torch.Size([10, 6])\n",
      "tensor([0., 1., 0., 1., 0., 1.])\n"
     ]
    }
   ],
   "source": [
    "# Combine even and odd\n",
    "stacked = torch.stack([even_PE, odd_PE], dim=2)\n",
    "print(stacked.shape)\n",
    "print(stacked[0])\n",
    "\n",
    "PE = torch.flatten(stacked, start_dim=1, end_dim=2) # flatten dimension 2 to dimension 1\n",
    "print(PE.shape)\n",
    "print(PE[0])"
   ]
  },
  {
   "cell_type": "code",
   "execution_count": 32,
   "metadata": {},
   "outputs": [
    {
     "name": "stdout",
     "output_type": "stream",
     "text": [
      "tensor([[ 0.0000,  1.0000,  0.0000,  1.0000,  0.0000,  1.0000],\n",
      "        [ 0.8415,  0.5403,  0.0464,  0.9989,  0.0022,  1.0000],\n",
      "        [ 0.9093, -0.4161,  0.0927,  0.9957,  0.0043,  1.0000],\n",
      "        [ 0.1411, -0.9900,  0.1388,  0.9903,  0.0065,  1.0000],\n",
      "        [-0.7568, -0.6536,  0.1846,  0.9828,  0.0086,  1.0000],\n",
      "        [-0.9589,  0.2837,  0.2300,  0.9732,  0.0108,  0.9999],\n",
      "        [-0.2794,  0.9602,  0.2749,  0.9615,  0.0129,  0.9999],\n",
      "        [ 0.6570,  0.7539,  0.3192,  0.9477,  0.0151,  0.9999],\n",
      "        [ 0.9894, -0.1455,  0.3629,  0.9318,  0.0172,  0.9999],\n",
      "        [ 0.4121, -0.9111,  0.4057,  0.9140,  0.0194,  0.9998]])\n",
      "tensor(2.5392)\n",
      "tensor(1.5795)\n",
      "tensor(1.0003)\n",
      "tensor(1.3291)\n",
      "tensor(2.2568)\n",
      "tensor(2.9216)\n",
      "tensor(2.7015)\n"
     ]
    }
   ],
   "source": [
    "class PositionalEncoding(nn.Module):\n",
    "    def __init__(self, d_model, max_sequence_length):\n",
    "        super(PositionalEncoding, self).__init__()\n",
    "        self.max_sequence_length = max_sequence_length\n",
    "        self.d_model = d_model\n",
    "\n",
    "    def forward(self):\n",
    "        even_i = torch.arange(0, self.d_model, 2).float()\n",
    "        denominator = torch.pow(10000, even_i / self.d_model)\n",
    "        position = torch.arange(self.max_sequence_length).reshape(self.max_sequence_length, 1)\n",
    "        \n",
    "        even_PE = torch.sin(position / denominator)\n",
    "        odd_PE  = torch.cos(position / denominator)\n",
    "        stacked = torch.stack([even_PE, odd_PE], dim=2)\n",
    "        PE = torch.flatten(stacked, start_dim=1, end_dim=2)\n",
    "        return PE\n",
    "    \n",
    "pe = PositionalEncoding(d_model=6, max_sequence_length=10)\n",
    "pos_encode = pe.forward()\n",
    "print(pos_encode)\n",
    "\n",
    "\n",
    "print((pos_encode[0] * pos_encode[1].transpose(0, -1)).sum())\n",
    "print((pos_encode[0] * pos_encode[2].transpose(0, -1)).sum())\n",
    "print((pos_encode[0] * pos_encode[3].transpose(0, -1)).sum())\n",
    "print((pos_encode[0] * pos_encode[4].transpose(0, -1)).sum())\n",
    "print((pos_encode[0] * pos_encode[5].transpose(0, -1)).sum())\n",
    "print((pos_encode[0] * pos_encode[6].transpose(0, -1)).sum())\n",
    "print((pos_encode[0] * pos_encode[7].transpose(0, -1)).sum())\n",
    "\n"
   ]
  }
 ],
 "metadata": {
  "kernelspec": {
   "display_name": "pytorch",
   "language": "python",
   "name": "python3"
  },
  "language_info": {
   "codemirror_mode": {
    "name": "ipython",
    "version": 3
   },
   "file_extension": ".py",
   "mimetype": "text/x-python",
   "name": "python",
   "nbconvert_exporter": "python",
   "pygments_lexer": "ipython3",
   "version": "3.8.16"
  },
  "orig_nbformat": 4
 },
 "nbformat": 4,
 "nbformat_minor": 2
}
