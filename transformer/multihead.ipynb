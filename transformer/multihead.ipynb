{
 "cells": [
  {
   "attachments": {},
   "cell_type": "markdown",
   "metadata": {},
   "source": [
    "# How is Transformer used in translation\n",
    "\n",
    "## Translating \"Hello World\" to Chinese\n",
    "\n",
    "### Stage 1\n",
    "1. Pass \"Hello World\" to encoder\n",
    "2. Pass \"<start>\" to decoder\n",
    "3. Transformer outputs \"你\"\n",
    "\n",
    "### Stage 2\n",
    "1. Pass \"Hello World\" to encoder\n",
    "2. Pass \"你\" to decoder\n",
    "3. Transformer outputs \"好\"\n",
    "\n",
    "### Stage 3\n",
    "1. Pass \"Hello World\" to encoder\n",
    "2. Pass \"好\" to decoder\n",
    "3. Transformer outputs \"世\"\n",
    "\n",
    "### Stage 4\n",
    "1. Pass \"Hello World\" to encoder\n",
    "2. Pass \"世\" to decoder\n",
    "3. Transformer outputs \"界\""
   ]
  },
  {
   "cell_type": "code",
   "execution_count": 18,
   "metadata": {},
   "outputs": [
    {
     "name": "stdout",
     "output_type": "stream",
     "text": [
      "word 'name' embedded and pos encoded into 512x1 vector.\n",
      "512x1 vector is pass to Q, K, V as 3 copies.\n",
      "In 8 heads attentions architecture, 512x1 vector is chopped into 8 pieces with 64x1 each.\n",
      "This is done alone with other words in the sentence.\n",
      "\n",
      "Say hello to world\n",
      "embeded and pos encoded:             4x512\n",
      "Copy to Q K V:                     3x4x512\n",
      "Attention unit starts\n",
      "In Q:                                4x512\n",
      "8 heads chopping:                     4x64\n",
      "Attention takes Q K V of 4x64:      3x4x64\n",
      "Attention generates new V:            4x64\n",
      "Attention generates Attn matrix:       4x4\n",
      "Concat all 8 new_V from 8 Attention: 4x512\n",
      "Goes to next layer...\n"
     ]
    }
   ],
   "source": [
    "# Multi-head Attention\n",
    "\n",
    "print(\"word 'name' embedded and pos encoded into 512x1 vector.\")\n",
    "print(\"512x1 vector is pass to Q, K, V as 3 copies.\")\n",
    "print(\"In 8 heads attentions architecture, 512x1 vector is chopped into 8 pieces with 64x1 each.\")\n",
    "print(\"This is done alone with other words in the sentence.\\n\")\n",
    "\n",
    "print(\"Say hello to world\")\n",
    "print(\"embeded and pos encoded:             4x512\")\n",
    "print(\"Copy to Q K V:                     3x4x512\")\n",
    "print(\"Attention unit starts\")\n",
    "print(\"In Q:                                4x512\")\n",
    "print(\"8 heads chopping:                     4x64\")\n",
    "print(\"Attention takes Q K V of 4x64:      3x4x64\")\n",
    "print(\"Attention generates new V:            4x64\")\n",
    "print(\"Attention generates Attn matrix:       4x4\")\n",
    "print(\"Concat all 8 new_V from 8 Attention: 4x512\")\n",
    "print(\"Goes to next layer...\")"
   ]
  },
  {
   "cell_type": "code",
   "execution_count": 19,
   "metadata": {},
   "outputs": [
    {
     "ename": "ImportError",
     "evalue": "cannot import name 'classproperty' from 'torch._utils' (/Users/joe/opt/anaconda3/lib/python3.8/site-packages/torch/_utils.py)",
     "output_type": "error",
     "traceback": [
      "\u001b[0;31m---------------------------------------------------------------------------\u001b[0m",
      "\u001b[0;31mImportError\u001b[0m                               Traceback (most recent call last)",
      "\u001b[0;32m<ipython-input-19-29e4c9183567>\u001b[0m in \u001b[0;36m<module>\u001b[0;34m\u001b[0m\n\u001b[1;32m      1\u001b[0m \u001b[0;32mimport\u001b[0m \u001b[0mnumpy\u001b[0m \u001b[0;32mas\u001b[0m \u001b[0mnp\u001b[0m\u001b[0;34m\u001b[0m\u001b[0;34m\u001b[0m\u001b[0m\n\u001b[0;32m----> 2\u001b[0;31m \u001b[0;32mimport\u001b[0m \u001b[0mtorch\u001b[0m\u001b[0;34m\u001b[0m\u001b[0;34m\u001b[0m\u001b[0m\n\u001b[0m\u001b[1;32m      3\u001b[0m \u001b[0;32mimport\u001b[0m \u001b[0mtorch\u001b[0m\u001b[0;34m.\u001b[0m\u001b[0mnn\u001b[0m \u001b[0;32mas\u001b[0m \u001b[0mnn\u001b[0m\u001b[0;34m\u001b[0m\u001b[0;34m\u001b[0m\u001b[0m\n\u001b[1;32m      4\u001b[0m \u001b[0;32mimport\u001b[0m \u001b[0mtorch\u001b[0m\u001b[0;34m.\u001b[0m\u001b[0mnn\u001b[0m\u001b[0;34m.\u001b[0m\u001b[0mfunctional\u001b[0m \u001b[0;32mas\u001b[0m \u001b[0mF\u001b[0m\u001b[0;34m\u001b[0m\u001b[0;34m\u001b[0m\u001b[0m\n\u001b[1;32m      5\u001b[0m \u001b[0;34m\u001b[0m\u001b[0m\n",
      "\u001b[0;32m~/opt/anaconda3/lib/python3.8/site-packages/torch/__init__.py\u001b[0m in \u001b[0;36m<module>\u001b[0;34m\u001b[0m\n\u001b[1;32m     20\u001b[0m     \u001b[0;32mraise\u001b[0m \u001b[0mException\u001b[0m\u001b[0;34m(\u001b[0m\u001b[0;34m\"Python 2 has reached end-of-life and is no longer supported by PyTorch.\"\u001b[0m\u001b[0;34m)\u001b[0m\u001b[0;34m\u001b[0m\u001b[0;34m\u001b[0m\u001b[0m\n\u001b[1;32m     21\u001b[0m \u001b[0;34m\u001b[0m\u001b[0m\n\u001b[0;32m---> 22\u001b[0;31m \u001b[0;32mfrom\u001b[0m \u001b[0;34m.\u001b[0m\u001b[0m_utils\u001b[0m \u001b[0;32mimport\u001b[0m \u001b[0m_import_dotted_name\u001b[0m\u001b[0;34m,\u001b[0m \u001b[0mclassproperty\u001b[0m\u001b[0;34m\u001b[0m\u001b[0;34m\u001b[0m\u001b[0m\n\u001b[0m\u001b[1;32m     23\u001b[0m \u001b[0;32mfrom\u001b[0m \u001b[0;34m.\u001b[0m\u001b[0m_utils_internal\u001b[0m \u001b[0;32mimport\u001b[0m \u001b[0mget_file_path\u001b[0m\u001b[0;34m,\u001b[0m \u001b[0mprepare_multiprocessing_environment\u001b[0m\u001b[0;34m,\u001b[0m\u001b[0;31m \u001b[0m\u001b[0;31m\\\u001b[0m\u001b[0;34m\u001b[0m\u001b[0;34m\u001b[0m\u001b[0m\n\u001b[1;32m     24\u001b[0m     \u001b[0mUSE_RTLD_GLOBAL_WITH_LIBTORCH\u001b[0m\u001b[0;34m,\u001b[0m \u001b[0mUSE_GLOBAL_DEPS\u001b[0m\u001b[0;34m\u001b[0m\u001b[0;34m\u001b[0m\u001b[0m\n",
      "\u001b[0;31mImportError\u001b[0m: cannot import name 'classproperty' from 'torch._utils' (/Users/joe/opt/anaconda3/lib/python3.8/site-packages/torch/_utils.py)"
     ]
    }
   ],
   "source": [
    "import numpy as np\n",
    "import torch\n",
    "import torch.nn as nn\n",
    "import torch.nn.functional as F\n",
    "\n",
    "sequence_length = 4 # sentence length\n",
    "batch_size = 1\n",
    "input_dim = 512 # word original dimension?\n",
    "d_model = 512 # dim of word after embedding and pos encoding\n",
    "x = torch.randn( (batch_size, sequence_length, input_dim) )\n",
    "x.size"
   ]
  },
  {
   "cell_type": "code",
   "execution_count": null,
   "metadata": {},
   "outputs": [],
   "source": []
  }
 ],
 "metadata": {
  "kernelspec": {
   "display_name": "base",
   "language": "python",
   "name": "python3"
  },
  "language_info": {
   "codemirror_mode": {
    "name": "ipython",
    "version": 3
   },
   "file_extension": ".py",
   "mimetype": "text/x-python",
   "name": "python",
   "nbconvert_exporter": "python",
   "pygments_lexer": "ipython3",
   "version": "3.8.5"
  },
  "orig_nbformat": 4,
  "vscode": {
   "interpreter": {
    "hash": "d470c6f7045cb7376d33eb71b881a804349e7225012e3e94a4e01aa7b0ebf46e"
   }
  }
 },
 "nbformat": 4,
 "nbformat_minor": 2
}
