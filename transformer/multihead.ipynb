{
 "cells": [
  {
   "attachments": {},
   "cell_type": "markdown",
   "metadata": {},
   "source": [
    "# How is Transformer used in translation\n",
    "\n",
    "## Translating \"Hello World\" to Chinese\n",
    "\n",
    "### Stage 1\n",
    "1. Pass \"Hello World\" to encoder\n",
    "2. Pass \"<start>\" to decoder\n",
    "3. Transformer outputs \"你\"\n",
    "\n",
    "### Stage 2\n",
    "1. Pass \"Hello World\" to encoder\n",
    "2. Pass \"你\" to decoder\n",
    "3. Transformer outputs \"好\"\n",
    "\n",
    "### Stage 3\n",
    "1. Pass \"Hello World\" to encoder\n",
    "2. Pass \"好\" to decoder\n",
    "3. Transformer outputs \"世\"\n",
    "\n",
    "### Stage 4\n",
    "1. Pass \"Hello World\" to encoder\n",
    "2. Pass \"世\" to decoder\n",
    "3. Transformer outputs \"界\""
   ]
  },
  {
   "cell_type": "code",
   "execution_count": 11,
   "metadata": {},
   "outputs": [
    {
     "name": "stdout",
     "output_type": "stream",
     "text": [
      "word 'name' embedded and pos encoded into 512x1 vector.\n",
      "512x1 vector is pass to Q, K, V as 3 linear mapped copies.\n",
      "In 8 heads attentions architecture, 512x1 vector is chopped into 8 pieces with 64x1 each.\n",
      "This is done alone with other words in the sentence.\n",
      "\n",
      "Say hello to world\n",
      "embeded and pos encoded:             4x512\n",
      "Linear maps to Q K V:              3x4x512\n",
      "Attention unit starts\n",
      "In Q:                                4x512\n",
      "8 heads chopping:                     4x64\n",
      "Attention takes Q K V of 4x64:      3x4x64\n",
      "Attention generates new V:            4x64\n",
      "Attention generates Attn matrix:       4x4\n",
      "Concat all 8 new_V from 8 Attention: 4x512\n",
      "Goes to next layer...\n"
     ]
    }
   ],
   "source": [
    "# Multi-head Attention\n",
    "\n",
    "print(\"word 'name' embedded and pos encoded into 512x1 vector.\")\n",
    "print(\"512x1 vector is pass to Q, K, V as 3 linear mapped copies.\")\n",
    "print(\"In 8 heads attentions architecture, 512x1 vector is chopped into 8 pieces with 64x1 each.\")\n",
    "print(\"This is done alone with other words in the sentence.\\n\")\n",
    "\n",
    "print(\"Say hello to world\")\n",
    "print(\"embeded and pos encoded:             4x512\")\n",
    "print(\"Linear maps to Q K V:              3x4x512\")\n",
    "print(\"Attention unit starts\")\n",
    "print(\"In Q:                                4x512\")\n",
    "print(\"8 heads chopping:                     4x64\")\n",
    "print(\"Attention takes Q K V of 4x64:      3x4x64\")\n",
    "print(\"Attention generates new V:            4x64\")\n",
    "print(\"Attention generates Attn matrix:       4x4\")\n",
    "print(\"Concat all 8 new_V from 8 Attention: 4x512\")\n",
    "print(\"Goes to next layer...\")"
   ]
  },
  {
   "cell_type": "code",
   "execution_count": 12,
   "metadata": {},
   "outputs": [
    {
     "data": {
      "text/plain": [
       "torch.Size([1, 4, 512])"
      ]
     },
     "execution_count": 12,
     "metadata": {},
     "output_type": "execute_result"
    }
   ],
   "source": [
    "import numpy as np\n",
    "import math\n",
    "import torch\n",
    "import torch.nn as nn\n",
    "import torch.nn.functional as F\n",
    "\n",
    "sequence_length = 4 # sentence length\n",
    "batch_size = 1      # for parallel processing\n",
    "input_dim = 512     # dim of word after embedding and pos encoding\n",
    "d_model = 512       # output dim of multi head attn\n",
    "x = torch.randn( (batch_size, sequence_length, input_dim) )\n",
    "x.size()"
   ]
  },
  {
   "cell_type": "code",
   "execution_count": 13,
   "metadata": {},
   "outputs": [
    {
     "data": {
      "text/plain": [
       "torch.Size([1, 4, 1536])"
      ]
     },
     "execution_count": 13,
     "metadata": {},
     "output_type": "execute_result"
    }
   ],
   "source": [
    "# Maps sequence to Q, K, V\n",
    "qkv_layer = nn.Linear(input_dim, 3 * d_model) # Maps 512 to 3*512=1536 as QKV\n",
    "qkv = qkv_layer(x)\n",
    "qkv.shape"
   ]
  },
  {
   "cell_type": "code",
   "execution_count": 14,
   "metadata": {},
   "outputs": [
    {
     "data": {
      "text/plain": [
       "Text(0.5, 1.0, 'qkv distribution')"
      ]
     },
     "execution_count": 14,
     "metadata": {},
     "output_type": "execute_result"
    },
    {
     "data": {
      "image/png": "[encoded data removed]",
      "text/plain": [
       "<Figure size 640x480 with 1 Axes>"
      ]
     },
     "metadata": {},
     "output_type": "display_data"
    }
   ],
   "source": [
    "import matplotlib.pyplot as plt\n",
    "y_val = torch.histc(qkv, bins=200, min=-3, max=3)\n",
    "x_val = np.arange(-1, 1, 0.01) * 3\n",
    "plt.bar(x_val, y_val, align='center', color=['forestgreen'])\n",
    "plt.title('qkv distribution')"
   ]
  },
  {
   "cell_type": "code",
   "execution_count": 15,
   "metadata": {},
   "outputs": [
    {
     "data": {
      "text/plain": [
       "torch.Size([1, 4, 8, 192])"
      ]
     },
     "execution_count": 15,
     "metadata": {},
     "output_type": "execute_result"
    }
   ],
   "source": [
    "num_heads = 8\n",
    "head_dim = d_model // num_heads # 512 / 8 = 64\n",
    "qkv = qkv.reshape(batch_size, sequence_length, num_heads, 3 * head_dim) # 3 is from QKV\n",
    "qkv.shape\n",
    "# 192 = 64 * 3"
   ]
  },
  {
   "cell_type": "code",
   "execution_count": 16,
   "metadata": {},
   "outputs": [
    {
     "data": {
      "text/plain": [
       "torch.Size([1, 8, 4, 192])"
      ]
     },
     "execution_count": 16,
     "metadata": {},
     "output_type": "execute_result"
    }
   ],
   "source": [
    "qkv = qkv.permute(0, 2, 1, 3) # [batch_size, num_heads, sequence_length, 3*head_dim]\n",
    "qkv.shape"
   ]
  },
  {
   "cell_type": "code",
   "execution_count": 17,
   "metadata": {},
   "outputs": [
    {
     "data": {
      "text/plain": [
       "(torch.Size([1, 8, 4, 64]),\n",
       " torch.Size([1, 8, 4, 64]),\n",
       " torch.Size([1, 8, 4, 64]))"
      ]
     },
     "execution_count": 17,
     "metadata": {},
     "output_type": "execute_result"
    }
   ],
   "source": [
    "# Seperate Q K V\n",
    "q, k, v = qkv.chunk(3, dim=-1) # chop the last dimension (-1) into 3\n",
    "(q.shape, k.shape, v.shape)"
   ]
  },
  {
   "cell_type": "code",
   "execution_count": 19,
   "metadata": {},
   "outputs": [
    {
     "data": {
      "text/plain": [
       "torch.Size([1, 8, 4, 4])"
      ]
     },
     "execution_count": 19,
     "metadata": {},
     "output_type": "execute_result"
    }
   ],
   "source": [
    "# Attention matrix\n",
    "d_k = q.size()[-1] # should be 64=512/8 in our case\n",
    "scaled = torch.matmul(q, k.transpose(-2, -1)) / math.sqrt(d_k) # transpose between the second last (-2) and the last (-1) dimension\n",
    "scaled.shape\n",
    "# focus on the last 2 dim\n",
    "# 4x64 dot 4x64^T = 4x4 attention matrix"
   ]
  },
  {
   "cell_type": "code",
   "execution_count": 25,
   "metadata": {},
   "outputs": [
    {
     "name": "stdout",
     "output_type": "stream",
     "text": [
      "tensor([[0., -inf, -inf, -inf],\n",
      "        [0., 0., -inf, -inf],\n",
      "        [0., 0., 0., -inf],\n",
      "        [0., 0., 0., 0.]])\n",
      "tensor([[0., -inf, -inf, -inf],\n",
      "        [0., 0., -inf, -inf],\n",
      "        [0., 0., 0., -inf],\n",
      "        [0., 0., 0., 0.]])\n",
      "tensor([[-0.4880,    -inf,    -inf,    -inf],\n",
      "        [-0.2902, -0.0770,    -inf,    -inf],\n",
      "        [ 0.0404,  0.3003,  0.0707,    -inf],\n",
      "        [ 0.1488, -0.2462,  0.5967,  0.4996]], grad_fn=<SelectBackward0>)\n"
     ]
    }
   ],
   "source": [
    "mask = torch.full(scaled.size(), float('-inf'))\n",
    "mask = torch.triu(mask, diagonal=1) # tri will auto locate the last two dimension\n",
    "print(mask[0][0])\n",
    "print(mask[0][1])\n",
    "print((scaled + mask)[0][0])"
   ]
  },
  {
   "cell_type": "code",
   "execution_count": 27,
   "metadata": {},
   "outputs": [
    {
     "data": {
      "text/plain": [
       "tensor([[1.0000, 0.0000, 0.0000, 0.0000],\n",
       "        [0.4469, 0.5531, 0.0000, 0.0000],\n",
       "        [0.3005, 0.3897, 0.3098, 0.0000],\n",
       "        [0.2146, 0.1446, 0.3359, 0.3048]], grad_fn=<SelectBackward0>)"
      ]
     },
     "execution_count": 27,
     "metadata": {},
     "output_type": "execute_result"
    }
   ],
   "source": [
    "# Softmax and mask\n",
    "scaled += mask\n",
    "attention = F.softmax(scaled, dim=-1) # apply softmax on last dimension which is row by row [1, 8, 4, 4]\n",
    "attention[0][0] # softmax: [1][1] of the 4x4 attention will equal exp(scaled[1][0]) / (exp(scaled[1][0])+exp(scaled[1][1]))\n"
   ]
  },
  {
   "cell_type": "code",
   "execution_count": 28,
   "metadata": {},
   "outputs": [
    {
     "data": {
      "text/plain": [
       "torch.Size([1, 8, 4, 64])"
      ]
     },
     "execution_count": 28,
     "metadata": {},
     "output_type": "execute_result"
    }
   ],
   "source": [
    "new_v = torch.matmul(attention, v)\n",
    "new_v.shape"
   ]
  },
  {
   "cell_type": "code",
   "execution_count": 67,
   "metadata": {},
   "outputs": [],
   "source": [
    "# My own implementation of multi headed attention\n",
    "\n",
    "def multi_head_scaled_dot_product(Q, K, V, num_heads=8, mask=None):\n",
    "    # Assume no batch here Q.shape -> [4, 512]\n",
    "    # Also, 512 is after the word goes through the Linear mapping: input_dim -> d_model\n",
    "    # Q, K, V can be 4x512 (4 words long sequence)\n",
    "    d_model = Q.size()[-1]          # 512\n",
    "    sequence_length = Q.size()[-2]  # 4\n",
    "\n",
    "    # split heads\n",
    "    head_dim = d_model // num_heads # 512 / 8 = 64\n",
    "    Q = Q.reshape(sequence_length, num_heads, head_dim).permute(1, 0, 2) # [num_heads, sequence_length, head_dim]\n",
    "    K = K.reshape(sequence_length, num_heads, head_dim).permute(1, 0, 2)\n",
    "    V = V.reshape(sequence_length, num_heads, head_dim).permute(1, 0, 2)\n",
    "\n",
    "    new_V = torch.tensor([[] for n in range(sequence_length)])\n",
    "    Attn = torch.empty(0, sequence_length, sequence_length)\n",
    "    # this part can be parallelize\n",
    "    for q_h, k_h, v_h in zip(Q, K, V):\n",
    "        # q_h.shape = [4, 64]\n",
    "        d_k = q_h.size()[-1] # 64\n",
    "        scaled = torch.matmul(q_h, k_h.transpose(-2, -1)) / math.sqrt(d_k)\n",
    "        if mask is not None:\n",
    "            scaled += mask\n",
    "\n",
    "        attn = F.softmax(scaled, dim=-1) # apply softmax row by row. attn: 4x4\n",
    "        new_v = torch.matmul(attn, v_h)  # 4x64 -> needs to concat with other heads to form 4x512\n",
    "        # do you add attn up for multi head attn return?\n",
    "        new_V = torch.cat((new_V, new_v), -1) # 4x64 -> 4x512\n",
    "        attn = attn.reshape(1, sequence_length, sequence_length)\n",
    "        Attn = torch.cat((Attn, attn), 0) # 4x4 -> 8x4x4\n",
    "\n",
    "    return new_V, Attn\n",
    "\n",
    "\n"
   ]
  },
  {
   "cell_type": "code",
   "execution_count": 46,
   "metadata": {},
   "outputs": [],
   "source": [
    "# Better implementation of multi headed attention\n",
    "import copy\n",
    "\n",
    "class MultiHeadAttention(nn.Module):\n",
    "    def __init__(self, input_dim, d_model, num_heads):\n",
    "        super(MultiHeadAttention, self).__init__()\n",
    "        self.input_dim = input_dim\n",
    "        self.d_model = d_model\n",
    "        self.num_heads = num_heads\n",
    "        self.head_dim = d_model // num_heads\n",
    "        self.qkv_layer = nn.Linear(input_dim, 3*d_model)\n",
    "        self.linear_layer = nn.Linear(d_model, d_model) # maps value vector to output\n",
    "\n",
    "    def forward(self, x, mask=None):\n",
    "        batch_size, sequence_length, input_dim = x.size()\n",
    "        print(f'x.size(): {x.size()}')\n",
    "        qkv = self.qkv_layer(x)\n",
    "        print(f'qkv.size(): {qkv.size()}')\n",
    "        qkv = qkv.reshape(batch_size, sequence_length, self.num_heads, 3 * self.head_dim)\n",
    "        print(f'qkv.size(): {qkv.size()}')\n",
    "        qkv = qkv.permute(0, 2, 1, 3)\n",
    "        self.qkv = qkv.clone().detach() # for comparision\n",
    "        print(f'qkv.size(): {qkv.size()}')\n",
    "        q, k, v = qkv.chunk(3, dim=-1)\n",
    "        print(f\"q size: {q.size()}, k size: {k.size()}, v size: {v.size()}, \")\n",
    "        values, attention = self.scaled_dot_product(q, k, v, mask)\n",
    "        self.values = values.clone().detach() # for comparision\n",
    "        self.attention = attention.clone().detach() # for comparision\n",
    "        print(f\"values.size(): {values.size()}, attention.size:{ attention.size()} \")\n",
    "        values = values.reshape(batch_size, sequence_length, self.num_heads * self.head_dim)\n",
    "        print(f\"values.size(): {values.size()}\")\n",
    "        out = self.linear_layer(values)\n",
    "        print(f\"out.size(): {out.size()}\")\n",
    "        return out\n",
    "\n",
    "    def scaled_dot_product(self, q, k, v, mask=None):\n",
    "        d_k = q.size()[-1]\n",
    "        scaled = torch.matmul(q, k.transpose(-1, -2)) / math.sqrt(d_k)\n",
    "        if mask is not None:\n",
    "            scaled += mask\n",
    "        attention = F.softmax(scaled, dim=-1)\n",
    "        values = torch.matmul(attention, v)\n",
    "        return values, attention\n",
    "\n",
    "    def get_qkv(self):\n",
    "        return self.qkv.chunk(3, dim=-1)\n",
    "    \n",
    "    def get_value_attention(self):\n",
    "        return self.values, self.attention\n",
    "    "
   ]
  },
  {
   "cell_type": "code",
   "execution_count": 68,
   "metadata": {},
   "outputs": [
    {
     "name": "stdout",
     "output_type": "stream",
     "text": [
      "x.size(): torch.Size([30, 5, 1024])\n",
      "qkv.size(): torch.Size([30, 5, 1536])\n",
      "qkv.size(): torch.Size([30, 5, 8, 192])\n",
      "qkv.size(): torch.Size([30, 8, 5, 192])\n",
      "q size: torch.Size([30, 8, 5, 64]), k size: torch.Size([30, 8, 5, 64]), v size: torch.Size([30, 8, 5, 64]), \n",
      "values.size(): torch.Size([30, 8, 5, 64]), attention.size:torch.Size([30, 8, 5, 5]) \n",
      "values.size(): torch.Size([30, 5, 512])\n",
      "out.size(): torch.Size([30, 5, 512])\n",
      "\n",
      "q size: torch.Size([5, 512]), k size: torch.Size([5, 512]), v size: torch.Size([5, 512]), \n",
      "torch.Size([5, 512])\n",
      "torch.Size([5, 512])\n",
      "tensor([0.2224, 0.0200, 0.6099, 0.0143])\n",
      "tensor([0.2224, 0.0200, 0.6099, 0.0143])\n",
      "Congrads! My own implementation of Multi Headed Attention is correct.\n"
     ]
    }
   ],
   "source": [
    "input_dim = 1024\n",
    "d_model = 512\n",
    "num_heads = 8\n",
    "\n",
    "batch_size = 30\n",
    "sequence_length = 5\n",
    "x = torch.randn( (batch_size, sequence_length, input_dim) )\n",
    "\n",
    "model = MultiHeadAttention(input_dim, d_model, num_heads)\n",
    "out = model.forward(x)\n",
    "\n",
    "# qkv, new_v, attention from model\n",
    "q, k, v = model.get_qkv()\n",
    "M_value, M_attention = model.get_value_attention()\n",
    "M_value = M_value[0]\n",
    "M_attention = M_attention[0]\n",
    "\n",
    "q = q[0].permute(1, 0, 2).reshape(sequence_length, d_model)\n",
    "k = k[0].permute(1, 0, 2).reshape(sequence_length, d_model)\n",
    "v = v[0].permute(1, 0, 2).reshape(sequence_length, d_model)\n",
    "\n",
    "print()\n",
    "print(f\"q size: {q.size()}, k size: {k.size()}, v size: {v.size()}, \")\n",
    "\n",
    "# new_v, attention from my own implementation\n",
    "values, attention = multi_head_scaled_dot_product(q, k, v, num_heads=num_heads)\n",
    "\n",
    "M_value = M_value.permute(1, 0, 2).reshape(sequence_length, d_model)\n",
    "print(M_value.shape)\n",
    "print(values.shape)\n",
    "print(M_value[0][0:4])\n",
    "print(values[0][0:4])\n",
    "print(\"Congrads! My own implementation of Multi Headed Attention is correct.\")"
   ]
  }
 ],
 "metadata": {
  "kernelspec": {
   "display_name": "base",
   "language": "python",
   "name": "python3"
  },
  "language_info": {
   "codemirror_mode": {
    "name": "ipython",
    "version": 3
   },
   "file_extension": ".py",
   "mimetype": "text/x-python",
   "name": "python",
   "nbconvert_exporter": "python",
   "pygments_lexer": "ipython3",
   "version": "3.8.16"
  },
  "orig_nbformat": 4,
  "vscode": {
   "interpreter": {
    "hash": "d470c6f7045cb7376d33eb71b881a804349e7225012e3e94a4e01aa7b0ebf46e"
   }
  }
 },
 "nbformat": 4,
 "nbformat_minor": 2
}
