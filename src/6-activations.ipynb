{
 "cells": [
  {
   "cell_type": "code",
   "execution_count": 1,
   "metadata": {},
   "outputs": [],
   "source": [
    "# activation functions (non-linear)\n",
    "# to simulate neural network signal stepping behavior\n",
    "\n",
    "# Step function (not in practice)\n",
    "# Sigmoid       (last layer)\n",
    "# TanH          (hidden layer: scaled and shifted sigmoid)\n",
    "# ReLU          (hidden layer: most popular choice in the network)\n",
    "# Leaky ReLU    (hidden layer: modified and improved version of ReLU to solve vanishing gradient problem, use when layers stop updating while training)\n",
    "# Softmax       (last layer: good for multi class)"
   ]
  },
  {
   "cell_type": "code",
   "execution_count": 2,
   "metadata": {},
   "outputs": [],
   "source": [
    "import torch\n",
    "import torch.nn as nn\n",
    "import torch.nn.functional as F\n",
    "\n",
    "# option 1 (create nn module)\n",
    "class NeuralNet(nn.Module):\n",
    "    def __init__(self, input_size, hidden_size):\n",
    "        super(NeuralNet, self).__init__()\n",
    "        self.linear1 = nn.Linear(input_size, hidden_size)\n",
    "        self.relu = nn.ReLU()\n",
    "        self.linear2 = nn.Linear(hidden_size, 1)\n",
    "        self.sigmoid = nn.Sigmoid()\n",
    "\n",
    "        # available functions\n",
    "        # nn.Linear\n",
    "        # nn.ReLU\n",
    "        # nn.Sigmoid\n",
    "        # nn.Softmax\n",
    "        # nn.TanH\n",
    "        # nn.LeakyReLU\n",
    "\n",
    "    def forward(self, x):\n",
    "        out = self.linear1(x)\n",
    "        out = self.relu(out)\n",
    "        out = self.linear2(out)\n",
    "        out = self.sigmoid(out)\n",
    "        return out\n",
    "    \n",
    "# option 2 (use activation functions directly in forward pass)\n",
    "class NeuralNet2(nn.Module):\n",
    "    def __init__(self, input_size, hidden_size):\n",
    "        super(NeuralNet2, self).__init__()\n",
    "        self.linear1 = nn.Linear(input_size, hidden_size)\n",
    "        self.linear2 = nn.Linear(hidden_size, 1)\n",
    "\n",
    "    def forward(self, x):\n",
    "        out = torch.relu(self.linear1(x))\n",
    "        out = torch.sigmoid(self.linear2(out))\n",
    "        return out\n",
    "    \n",
    "        # available functions\n",
    "        # torch.relu\n",
    "        # torch.sigmoid\n",
    "        # torch.softmax\n",
    "        # nn.tanh\n",
    "        # F.leaky_relu"
   ]
  }
 ],
 "metadata": {
  "kernelspec": {
   "display_name": "env_pytorch",
   "language": "python",
   "name": "python3"
  },
  "language_info": {
   "codemirror_mode": {
    "name": "ipython",
    "version": 3
   },
   "file_extension": ".py",
   "mimetype": "text/x-python",
   "name": "python",
   "nbconvert_exporter": "python",
   "pygments_lexer": "ipython3",
   "version": "3.8.16"
  },
  "orig_nbformat": 4
 },
 "nbformat": 4,
 "nbformat_minor": 2
}
